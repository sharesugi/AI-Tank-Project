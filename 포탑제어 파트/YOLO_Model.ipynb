{
 "cells": [
  {
   "cell_type": "code",
   "execution_count": null,
   "id": "2f405d37",
   "metadata": {},
   "outputs": [],
   "source": [
    "from ultralytics import YOLO\n",
    "\n",
    "models = [\"yolov8s.pt\", \"yolov9s.pt\", \"yolov10s.pt\", \"yolo11s.pt\"]\n",
    "for model_name in models:\n",
    "    model = YOLO(model_name)\n",
    "    model.train(\n",
    "        data=\"./data.yaml\",\n",
    "        epochs=300,\n",
    "        imgsz=640,\n",
    "        batch=32,\n",
    "        device=0,\n",
    "        project=\"/projects\",\n",
    "        name=model_name.replace(\".pt\", \"\") + \"_final\"\n",
    "    )"
   ]
  }
 ],
 "metadata": {
  "language_info": {
   "name": "python"
  }
 },
 "nbformat": 4,
 "nbformat_minor": 5
}
